{
 "cells": [
  {
   "cell_type": "code",
   "execution_count": null,
   "metadata": {},
   "outputs": [],
   "source": [
    "from scipy.io import loadmat\n",
    "from sklearn.model_selection import train_test_split\n",
    "import numpy as np\n",
    "import matplotlib.pyplot as plt\n",
    "import pandas as pd\n",
    "import math\n",
    "import json\n",
    "from operator import itemgetter\n",
    "\n",
    "Problem4Data = loadmat(r\"/home/karanvora/Documents/New York University/Classes/Semester 1/Machine Learning/Assignments/Assignment 1/dataset4.mat\")\n",
    "X_Data = Problem4Data['X']\n",
    "Y_Data = Problem4Data['Y']"
   ]
  },
  {
   "cell_type": "code",
   "execution_count": null,
   "metadata": {},
   "outputs": [],
   "source": [
    "Length, Degree = X_Data.shape\n",
    "Length"
   ]
  },
  {
   "cell_type": "code",
   "execution_count": null,
   "metadata": {},
   "outputs": [],
   "source": [
    "HyperParams = {\n",
    "    \"StepSize\" : 1,\n",
    "    \"Tolerance\" : 0.00401\n",
    "}"
   ]
  },
  {
   "cell_type": "code",
   "execution_count": null,
   "metadata": {},
   "outputs": [],
   "source": [
    "def Exponential(X):\n",
    "    Exponential = 1.0 / (1 + np.exp(-X))\n",
    "    return Exponential"
   ]
  },
  {
   "cell_type": "code",
   "execution_count": null,
   "metadata": {},
   "outputs": [],
   "source": [
    "# Weights = np.array([[2],[2],[2]])\n",
    "# print(Weights)"
   ]
  },
  {
   "cell_type": "code",
   "execution_count": null,
   "metadata": {},
   "outputs": [],
   "source": [
    "Errors = []\n",
    "Risks = []\n",
    "Iterations = 0\n",
    "Prediction = 0\n",
    "Weights = np.random.random_sample((Degree, 1))\n",
    "while(True):\n",
    "\n",
    "    Prediction = Exponential(np.dot(X_Data, Weights))\n",
    "    Error = Y_Data - Prediction\n",
    "    Descent = HyperParams['StepSize'] * 1 / len(X_Data) * np.dot(X_Data.T, Error)\n",
    "    Weights = Weights + Descent\n",
    "    Iterations += 1\n",
    "    #print(Weights)\n",
    "    \n",
    "    Errors.append(np.count_nonzero((Prediction > 0.5) != Y_Data) / Length)\n",
    "    EmpericalRisk = 0\n",
    "    for val in range(len(Y_Data)):\n",
    "        if(Y_Data[val][0] == 1):\n",
    "            EmpericalRisk -= math.log(Prediction[val][0])\n",
    "        else:\n",
    "            EmpericalRisk -= math.log(1 - Prediction[val][0])\n",
    "\n",
    "    Risks.append(EmpericalRisk / Length)\n",
    "\n",
    "    if(np.linalg.norm(Descent) < HyperParams['Tolerance']):\n",
    "        break\n",
    "print(\"Weights : \", Weights)\n",
    "print(\"Iterations : \", Iterations)\n",
    "\n",
    "print(\"Minimum error : \", min(Errors))\n",
    "print(\"Minimum risk : \", min(Risks))\n",
    "\n",
    "plt.figure(1)\n",
    "plt.plot(range(Iterations), Errors,'r-',label='Error')\n",
    "plt.plot(range(Iterations), Risks, 'g-',label='Risk')\n",
    "plt.xlabel('iterations')\n",
    "plt.title('Error and Risk behavior over Iterations, Step Size = {}, Tolerance = {}'.format(HyperParams['StepSize'], HyperParams['Tolerance']))\n",
    "plt.legend()\n",
    "plt.show()"
   ]
  },
  {
   "cell_type": "code",
   "execution_count": null,
   "metadata": {},
   "outputs": [],
   "source": []
  }
 ],
 "metadata": {
  "kernelspec": {
   "display_name": "Python 3 (ipykernel)",
   "language": "python",
   "name": "python3"
  },
  "language_info": {
   "codemirror_mode": {
    "name": "ipython",
    "version": 3
   },
   "file_extension": ".py",
   "mimetype": "text/x-python",
   "name": "python",
   "nbconvert_exporter": "python",
   "pygments_lexer": "ipython3",
   "version": "3.10.6"
  },
  "vscode": {
   "interpreter": {
    "hash": "916dbcbb3f70747c44a77c7bcd40155683ae19c65e1c03b4aa3499c5328201f1"
   }
  }
 },
 "nbformat": 4,
 "nbformat_minor": 2
}

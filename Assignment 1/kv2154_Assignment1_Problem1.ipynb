{
 "cells": [
  {
   "cell_type": "code",
   "execution_count": null,
   "metadata": {},
   "outputs": [],
   "source": [
    "#Solution to Problem 1\n",
    "\n",
    "from scipy.io import loadmat\n",
    "from sklearn.model_selection import train_test_split\n",
    "import numpy as np\n",
    "import matplotlib.pyplot as plt\n",
    "import pandas as pd\n",
    "import math\n",
    "import json\n",
    "from operator import itemgetter\n",
    "\n",
    "Problem1Data = loadmat(r\"/home/karanvora/Documents/New York University/Classes/Semester 1/Machine Learning/Assignments/Assignment 1/problem1.mat\")\n",
    "X_Data = Problem1Data['x']\n",
    "Y_Data = Problem1Data['y']\n",
    "print(type(X_Data))\n",
    "plt.scatter(X_Data, Y_Data)\n",
    "\n",
    "X_Train, X_Test, Y_Train, Y_Test = train_test_split(X_Data, Y_Data, test_size=0.5, random_state=5)"
   ]
  },
  {
   "cell_type": "code",
   "execution_count": null,
   "metadata": {},
   "outputs": [],
   "source": [
    "def Convert_Vector(X, Y, Dimension):\n",
    "    X_Vector = X.tolist()\n",
    "    for values in range(len(X_Vector)):\n",
    "        X_Vector[values].insert(0,1)\n",
    "        for Dim in range(2, Dimension + 1):\n",
    "            X_Vector[values].append(pow(X_Vector[values][1], Dim))\n",
    "    \n",
    "    X_Vector = np.array(X_Vector)\n",
    "    #X_Vector =X_Vector.T\n",
    "    #print(X_Vector)\n",
    "    Inverse = np.linalg.pinv(np.dot(X_Vector.T, X_Vector))\n",
    "    Theta = np.dot(np.dot(Inverse, X_Vector.T), Y)\n",
    "    #Hypothesis = np.dot(X_Vector, Theta)\n",
    "    return X_Vector, Theta\n",
    "# Convert_Vector(X_Train, Y_Train, 3)\n"
   ]
  },
  {
   "cell_type": "code",
   "execution_count": null,
   "metadata": {},
   "outputs": [],
   "source": [
    "ValueList = []\n",
    "MaxDim = 50\n",
    "for Dim in range(1, MaxDim):\n",
    "    ValueDir = {}\n",
    "    ValueDir['Dimension'] = Dim\n",
    "    \n",
    "    X_Vector_Train, Theta1 = Convert_Vector(X_Train, Y_Train, Dim)\n",
    "    Hypothesis1 = np.dot(X_Vector_Train, Theta1)\n",
    "    TrainLoss = (1/(len(X_Train) * 2)) * np.sum(pow(Y_Train - Hypothesis1, 2))\n",
    "    ValueDir['TrainLoss'] = TrainLoss\n",
    "    ValueDir['TrainLossLog'] = math.log(TrainLoss)\n",
    "\n",
    "    X_Vector_Test, Theta2 = Convert_Vector(X_Test, Y_Test, Dim)\n",
    "    Hypothesis2 = np.dot(X_Vector_Test, Theta1)\n",
    "    TestLoss = (1/(len(X_Test) * 2)) * np.sum(pow(Y_Test - Hypothesis2, 2))\n",
    "    ValueDir['TestLoss'] = TestLoss\n",
    "    ValueDir['TestLossLog'] = math.log(TestLoss)\n",
    "\n",
    "    ValueDir['DifferenceOfLoss'] = math.log(abs(ValueDir['TestLoss'] - ValueDir['TrainLoss']))\n",
    "\n",
    "    ValueList.append(ValueDir)\n",
    "    # if Dim in (1,2,3,4,5,6,7,8,9,10,20,30,40):}\n",
    "    plt.plot(X_Train, Y_Train, 'r.', label='Training Data')\n",
    "    plt.plot(X_Test, Y_Test, 'g.', label='Testing Data')\n",
    "    plt.plot(X_Train, Hypothesis1, 'b.', label='Training Prediction')\n",
    "    plt.plot(X_Train, Hypothesis2, 'y.', label='Testing Prediction')\n",
    "    plt.title('Dimension = {}'.format(str(Dim)))\n",
    "    plt.show()\n",
    "\n",
    "#print(json.dumps(ValueList, indent=3))\n",
    "\n",
    "TrainLossSort = sorted(ValueList, key=itemgetter('TrainLossLog'))\n",
    "LeastTrainLoss = TrainLossSort[0]['Dimension']\n",
    "TestLossSort = sorted(ValueList, key=itemgetter('TestLossLog'))\n",
    "LeastTestLoss = TestLossSort[0]['Dimension']\n",
    "MinLossSort = sorted(ValueList, key=itemgetter('DifferenceOfLoss'))\n",
    "DimensionOptimal = MinLossSort[0]['Dimension']\n",
    "print(DimensionOptimal)\n",
    "\n",
    "#print(LeastTrainLoss, LeastTrainLoss, DimensionOptimal)\n",
    "#Now the Dimension we get is D-1, for optimal fit, we need to add 1 to the polynomial being fir\n",
    "#DimensionOptimal = DimensionOptimal + 1"
   ]
  },
  {
   "cell_type": "code",
   "execution_count": null,
   "metadata": {},
   "outputs": [],
   "source": [
    "DataFrame = pd.DataFrame(ValueList)\n",
    "DataFrame.plot('Dimension', ['TrainLoss', 'TestLoss'])\n",
    "plt.plot(DimensionOptimal, ValueList[DimensionOptimal]['TrainLoss'], 'xb')\n",
    "plt.text(DimensionOptimal, ValueList[DimensionOptimal]['TrainLoss'], \"(dim={})\".format(str(DimensionOptimal)))\n",
    "plt.title('Cross-validation')\n",
    "plt.show()"
   ]
  },
  {
   "cell_type": "code",
   "execution_count": null,
   "metadata": {},
   "outputs": [],
   "source": [
    "# # Train_Loss = []\n",
    "# # Test_Loss = []\n",
    "# # Dimension = []\n",
    "# Value_List = []\n",
    "# max_dim = 50\n",
    "# for Dim in range(1,max_dim):\n",
    "#     Value_Dir = {}\n",
    "#     Hypothesis = Convert_Vector(X_Train, Y_Train, Dim)\n",
    "#     TrainLoss = (1/(len(X_Train)*2)) * np.sum(pow(Y_Train - Hypothesis, 2))\n",
    "#     Value_Dir[\"TrainLoss\"] = TrainLoss\n",
    "#     Value_Dir[\"TrainLossLog\"] = math.log(TrainLoss)\n",
    "#     Hypothesis = Convert_Vector(X_Test, Y_Test, Dim)\n",
    "#     TestLoss = (1/(len(X_Test)*2)) * np.sum(pow(Y_Test - Hypothesis, 2))\n",
    "#     Value_Dir[\"TestLoss\"] = TestLoss\n",
    "#     Value_Dir[\"TestLossLog\"] = math.log(TestLoss)\n",
    "#     Value_Dir[\"Dimension\"] = Dim\n",
    "#     #Value_Dir[\"DifferenceOfLoss\"] = abs(Value_Dir[\"TestLossLog\"] - Value_Dir[\"TrainLossLog\"])\n",
    "#     Value_Dir[\"DifferenceOfLoss\"] = math.log(abs(TrainLoss - TestLoss))\n",
    "#     Value_List.append(Value_Dir)\n",
    "#     break\n",
    "\n",
    "# #print(json.dumps(Value_List, indent=3))"
   ]
  },
  {
   "cell_type": "code",
   "execution_count": null,
   "metadata": {},
   "outputs": [],
   "source": [
    "# TrainLossLog = [math.log(val) for val in Train_Loss]\n",
    "# print(TrainLossLog)\n",
    "# print(min(TrainLossLog))\n",
    "# TrainLossLog = np.array(TrainLossLog)\n",
    "# print(np.argmin(TrainLossLog))"
   ]
  },
  {
   "cell_type": "code",
   "execution_count": null,
   "metadata": {},
   "outputs": [],
   "source": [
    "# TestLossLog = [math.log(val) for val in Test_Loss]\n",
    "# print(TestLossLog)\n",
    "# print(min(TestLossLog))\n",
    "# TestLossLog = np.array(TestLossLog)\n",
    "# print(np.argmin(TestLossLog))"
   ]
  },
  {
   "cell_type": "code",
   "execution_count": null,
   "metadata": {},
   "outputs": [],
   "source": [
    "# np.argmin(TrainLossLog + TestLossLog)"
   ]
  },
  {
   "cell_type": "code",
   "execution_count": null,
   "metadata": {},
   "outputs": [],
   "source": [
    "# TrainLossSort = sorted(Value_List, key=itemgetter('TrainLossLog'))\n",
    "# print(json.dumps(TrainLossSort, indent=3))"
   ]
  },
  {
   "cell_type": "code",
   "execution_count": null,
   "metadata": {},
   "outputs": [],
   "source": [
    "# TestLossSort = sorted(Value_List, key=itemgetter('TestLossLog'))\n",
    "# print(json.dumps(TestLossSort, indent=3))"
   ]
  },
  {
   "cell_type": "code",
   "execution_count": null,
   "metadata": {},
   "outputs": [],
   "source": [
    "# MinLossSort = sorted(Value_List, key=itemgetter('DifferenceOfLoss'))\n",
    "# print(json.dumps(MinLossSort, indent=3))\n",
    "# DimensionOptimal = MinLossSort[0]['Dimension']\n",
    "# #print(json.dumps(MinLossSort[0], indent=3))\n",
    "# #rint(DimensionOptimal)"
   ]
  },
  {
   "cell_type": "code",
   "execution_count": null,
   "metadata": {},
   "outputs": [],
   "source": [
    "# min_ind = np.argmin(TrainLossLog)\n",
    "# plt.figure(0)\n",
    "# ltrain, = plt.plot(range(1,max_dim), TrainLossLog,'b',label='train')\n",
    "# ltest,  = plt.plot(range(1,max_dim), TestLossLog, 'r',label='test')\n",
    "# plt.plot(min_ind, TestLossLog[min_ind], 'xr')\n",
    "# plt.text(min_ind, TestLossLog[min_ind], \"(dim={})\".format(str(min_ind)))\n",
    "# plt.xlabel('Dimension'); plt.ylabel('Error')\n",
    "# plt.title('Cross-validation')\n",
    "# plt.legend(handles=[ltrain, ltest])\n",
    "# plt.show()"
   ]
  }
 ],
 "metadata": {
  "kernelspec": {
   "display_name": "Python 3.10.4 64-bit",
   "language": "python",
   "name": "python3"
  },
  "language_info": {
   "codemirror_mode": {
    "name": "ipython",
    "version": 3
   },
   "file_extension": ".py",
   "mimetype": "text/x-python",
   "name": "python",
   "nbconvert_exporter": "python",
   "pygments_lexer": "ipython3",
   "version": "3.10.6"
  },
  "orig_nbformat": 4,
  "vscode": {
   "interpreter": {
    "hash": "916dbcbb3f70747c44a77c7bcd40155683ae19c65e1c03b4aa3499c5328201f1"
   }
  }
 },
 "nbformat": 4,
 "nbformat_minor": 2
}

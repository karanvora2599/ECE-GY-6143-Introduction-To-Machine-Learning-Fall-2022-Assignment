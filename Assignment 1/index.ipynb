{
 "cells": [
  {
   "cell_type": "code",
   "execution_count": 27,
   "metadata": {},
   "outputs": [],
   "source": [
    "import numpy as np\n",
    "from scipy.io import loadmat\n",
    "from sklearn.model_selection import train_test_split\n",
    "import math\n",
    "annots = loadmat('problem1.mat')\n"
   ]
  },
  {
   "cell_type": "code",
   "execution_count": 28,
   "metadata": {},
   "outputs": [],
   "source": [
    "import matplotlib.pyplot as plt"
   ]
  },
  {
   "cell_type": "code",
   "execution_count": 29,
   "metadata": {},
   "outputs": [
    {
     "data": {
      "text/plain": [
       "<matplotlib.collections.PathCollection at 0x7f807ccbf040>"
      ]
     },
     "execution_count": 29,
     "metadata": {},
     "output_type": "execute_result"
    },
    {
     "data": {
      "image/png": "[encoded data removed]",
      "text/plain": [
       "<Figure size 640x480 with 1 Axes>"
      ]
     },
     "metadata": {},
     "output_type": "display_data"
    }
   ],
   "source": [
    "plt.scatter(annots['x'], annots['y'])"
   ]
  },
  {
   "cell_type": "code",
   "execution_count": 30,
   "metadata": {},
   "outputs": [],
   "source": [
    "def Get_x(x,d):\n",
    "    x = np.insert(x,0,np.ones(x.shape[0]),axis=1)\n",
    "    for power in range(2,d+1):\n",
    "        newcol = np.expand_dims(pow(x[:, 1], power),axis=0)\n",
    "        x = np.append(x,newcol.T,axis=1)\n",
    "    return x"
   ]
  },
  {
   "cell_type": "code",
   "execution_count": 31,
   "metadata": {},
   "outputs": [],
   "source": [
    "def calc_theta(x,y,d):\n",
    "    x = Get_x(x,d)\n",
    "    print(type(x))\n",
    "    pseudo_inverse = np.linalg.inv(np.dot(x.T, x))\n",
    "    theta = np.dot(np.dot(pseudo_inverse,x.T),y)\n",
    "    return x,theta"
   ]
  },
  {
   "cell_type": "code",
   "execution_count": null,
   "metadata": {},
   "outputs": [],
   "source": []
  },
  {
   "cell_type": "code",
   "execution_count": 32,
   "metadata": {},
   "outputs": [],
   "source": [
    "def hypothesis(x,theta):\n",
    "    return np.dot(x,theta)"
   ]
  },
  {
   "cell_type": "code",
   "execution_count": 33,
   "metadata": {},
   "outputs": [],
   "source": [
    "X_train, X_test, y_train, y_test = train_test_split(annots['x'], annots['y'], test_size=0.5, random_state=5)"
   ]
  },
  {
   "cell_type": "code",
   "execution_count": 34,
   "metadata": {},
   "outputs": [
    {
     "data": {
      "text/plain": [
       "array([[  1.        ,  24.30336437],\n",
       "       [  1.        , -35.57437881],\n",
       "       [  1.        , -19.38819334],\n",
       "       [  1.        ,   7.03533392],\n",
       "       [  1.        ,  27.0644011 ],\n",
       "       [  1.        ,  11.18721768],\n",
       "       [  1.        , -17.63445454],\n",
       "       [  1.        ,  29.24568605],\n",
       "       [  1.        , -36.4145165 ],\n",
       "       [  1.        , -42.87147889],\n",
       "       [  1.        ,  16.91934682],\n",
       "       [  1.        ,   3.34800609],\n",
       "       [  1.        ,   7.46915063],\n",
       "       [  1.        , -16.1554433 ],\n",
       "       [  1.        ,  35.50886192],\n",
       "       [  1.        ,  11.38647653],\n",
       "       [  1.        , -38.92943749],\n",
       "       [  1.        ,   9.80052596],\n",
       "       [  1.        ,   8.96122246],\n",
       "       [  1.        ,   5.3800074 ],\n",
       "       [  1.        ,  -1.47411902],\n",
       "       [  1.        ,  20.86701764],\n",
       "       [  1.        ,   1.54185452],\n",
       "       [  1.        , -27.98802564],\n",
       "       [  1.        ,  -6.68470087],\n",
       "       [  1.        , -37.08228434],\n",
       "       [  1.        , -45.72620308],\n",
       "       [  1.        , -36.95749531],\n",
       "       [  1.        , -33.39342414],\n",
       "       [  1.        , -32.04534636],\n",
       "       [  1.        ,   1.62026634],\n",
       "       [  1.        ,  25.43333844],\n",
       "       [  1.        ,   0.56924487],\n",
       "       [  1.        , -12.24728537],\n",
       "       [  1.        , -39.46650653],\n",
       "       [  1.        ,  -5.65940717],\n",
       "       [  1.        , -42.37883543],\n",
       "       [  1.        , -26.86901786],\n",
       "       [  1.        ,   2.3249844 ],\n",
       "       [  1.        ,  -4.50846147],\n",
       "       [  1.        ,  16.52699452],\n",
       "       [  1.        ,  49.23939332],\n",
       "       [  1.        , -25.70658592],\n",
       "       [  1.        , -26.75633629],\n",
       "       [  1.        ,  10.13460943],\n",
       "       [  1.        ,  -7.44277323],\n",
       "       [  1.        ,  43.72652647],\n",
       "       [  1.        , -32.38306596],\n",
       "       [  1.        ,  41.22600835],\n",
       "       [  1.        ,  32.08020243],\n",
       "       [  1.        ,   7.65955678],\n",
       "       [  1.        ,  -5.43359834],\n",
       "       [  1.        ,  43.59872824],\n",
       "       [  1.        ,  35.60534215],\n",
       "       [  1.        ,  -7.84654862],\n",
       "       [  1.        , -23.5601077 ],\n",
       "       [  1.        , -48.38972492],\n",
       "       [  1.        , -11.6581412 ],\n",
       "       [  1.        , -24.17022466],\n",
       "       [  1.        ,  46.96582964],\n",
       "       [  1.        ,   6.0113444 ],\n",
       "       [  1.        , -46.69991679],\n",
       "       [  1.        ,  30.93799448],\n",
       "       [  1.        ,  33.61729207],\n",
       "       [  1.        ,   8.93973063],\n",
       "       [  1.        ,  35.80859163],\n",
       "       [  1.        ,   4.24866211],\n",
       "       [  1.        , -42.7121182 ],\n",
       "       [  1.        ,  17.59998741],\n",
       "       [  1.        ,  42.80524308],\n",
       "       [  1.        , -12.73757392],\n",
       "       [  1.        , -41.40805151],\n",
       "       [  1.        ,  27.64878072],\n",
       "       [  1.        , -12.27613193],\n",
       "       [  1.        ,  -7.82271911],\n",
       "       [  1.        ,  20.76464037],\n",
       "       [  1.        , -39.54204408],\n",
       "       [  1.        ,  44.9081001 ],\n",
       "       [  1.        ,  -1.50149877],\n",
       "       [  1.        ,  21.85575549],\n",
       "       [  1.        ,  44.99088464],\n",
       "       [  1.        ,  15.93411843],\n",
       "       [  1.        , -19.55969401],\n",
       "       [  1.        ,  25.57002809],\n",
       "       [  1.        ,  45.26869252],\n",
       "       [  1.        ,  -2.21346538],\n",
       "       [  1.        ,  28.15767479],\n",
       "       [  1.        ,  26.85515178],\n",
       "       [  1.        ,  22.64219852],\n",
       "       [  1.        ,  -3.10663212],\n",
       "       [  1.        ,  25.71795574],\n",
       "       [  1.        , -14.33233273],\n",
       "       [  1.        ,  23.37369089],\n",
       "       [  1.        ,  29.85756362],\n",
       "       [  1.        ,  -1.12197985],\n",
       "       [  1.        , -37.71564747],\n",
       "       [  1.        ,  44.79496842],\n",
       "       [  1.        ,  31.62452773],\n",
       "       [  1.        , -49.90954011],\n",
       "       [  1.        ,  38.11328012],\n",
       "       [  1.        , -11.93520192],\n",
       "       [  1.        ,  -8.49826391],\n",
       "       [  1.        ,  11.47800266],\n",
       "       [  1.        ,  47.03241584],\n",
       "       [  1.        , -40.90607083],\n",
       "       [  1.        , -36.90836337],\n",
       "       [  1.        ,  -4.99802681],\n",
       "       [  1.        ,  44.18165758],\n",
       "       [  1.        , -43.65180399],\n",
       "       [  1.        ,  40.44225854],\n",
       "       [  1.        ,  -6.94845595],\n",
       "       [  1.        ,  45.83309894],\n",
       "       [  1.        , -23.19133295],\n",
       "       [  1.        ,  17.65078408],\n",
       "       [  1.        , -32.04969328],\n",
       "       [  1.        , -26.79809582],\n",
       "       [  1.        , -13.00406168],\n",
       "       [  1.        ,  33.79004491],\n",
       "       [  1.        ,  23.6624715 ],\n",
       "       [  1.        , -38.27372608],\n",
       "       [  1.        , -47.88972909],\n",
       "       [  1.        , -44.614688  ],\n",
       "       [  1.        ,  11.89247781],\n",
       "       [  1.        , -14.76698333],\n",
       "       [  1.        , -43.79814153],\n",
       "       [  1.        ,  40.3273904 ],\n",
       "       [  1.        ,  43.24328826],\n",
       "       [  1.        ,  37.44290943],\n",
       "       [  1.        ,  14.42063114],\n",
       "       [  1.        ,   2.14069218],\n",
       "       [  1.        , -23.85494172],\n",
       "       [  1.        ,   3.28347856],\n",
       "       [  1.        ,  -3.80017959],\n",
       "       [  1.        , -18.36208658],\n",
       "       [  1.        , -14.23940485],\n",
       "       [  1.        ,  46.00153571],\n",
       "       [  1.        ,   6.9914349 ],\n",
       "       [  1.        ,   1.12384548],\n",
       "       [  1.        ,  18.43208441],\n",
       "       [  1.        , -35.68535554],\n",
       "       [  1.        , -28.3167039 ],\n",
       "       [  1.        , -20.06872727],\n",
       "       [  1.        ,  25.88044442],\n",
       "       [  1.        , -22.84860044],\n",
       "       [  1.        , -21.24326812],\n",
       "       [  1.        ,   5.02742368],\n",
       "       [  1.        ,   9.58200232],\n",
       "       [  1.        ,  48.86360187],\n",
       "       [  1.        , -43.45332438],\n",
       "       [  1.        ,   6.34955061],\n",
       "       [  1.        ,  20.27671736],\n",
       "       [  1.        ,  11.37172584],\n",
       "       [  1.        , -42.10177275],\n",
       "       [  1.        ,  12.05736358],\n",
       "       [  1.        ,  27.74620745],\n",
       "       [  1.        ,  33.37796092],\n",
       "       [  1.        , -35.36793658],\n",
       "       [  1.        ,  17.22080352],\n",
       "       [  1.        ,  12.81191035],\n",
       "       [  1.        ,  -6.76188218],\n",
       "       [  1.        ,  -2.93033641],\n",
       "       [  1.        ,  33.62297362],\n",
       "       [  1.        ,  39.97575332],\n",
       "       [  1.        ,  18.37677109],\n",
       "       [  1.        , -16.81886731],\n",
       "       [  1.        ,  32.77033754],\n",
       "       [  1.        , -31.76548751],\n",
       "       [  1.        , -30.40571104],\n",
       "       [  1.        ,  48.74204651],\n",
       "       [  1.        ,  24.16085606],\n",
       "       [  1.        ,  45.80750034],\n",
       "       [  1.        , -27.12118021],\n",
       "       [  1.        , -16.90567643],\n",
       "       [  1.        , -46.29747784],\n",
       "       [  1.        ,  39.39407615],\n",
       "       [  1.        ,  19.49029205],\n",
       "       [  1.        , -40.12172289],\n",
       "       [  1.        ,  38.95084738],\n",
       "       [  1.        ,  -2.18871911],\n",
       "       [  1.        ,   3.14332681],\n",
       "       [  1.        , -17.33622459],\n",
       "       [  1.        , -28.10431023],\n",
       "       [  1.        , -42.95497224],\n",
       "       [  1.        , -28.55219858],\n",
       "       [  1.        ,  14.4989753 ],\n",
       "       [  1.        , -47.10402822],\n",
       "       [  1.        , -13.24666324],\n",
       "       [  1.        , -43.82471602],\n",
       "       [  1.        , -48.87795456],\n",
       "       [  1.        , -17.58257718],\n",
       "       [  1.        ,  49.90670422],\n",
       "       [  1.        , -15.3473909 ],\n",
       "       [  1.        ,  -9.78244276],\n",
       "       [  1.        , -48.6916133 ],\n",
       "       [  1.        ,   8.93794821],\n",
       "       [  1.        , -17.16119112],\n",
       "       [  1.        ,  14.40858184],\n",
       "       [  1.        ,   9.31747052],\n",
       "       [  1.        , -36.0294105 ],\n",
       "       [  1.        , -15.80242076],\n",
       "       [  1.        , -19.4681215 ],\n",
       "       [  1.        , -36.52230047],\n",
       "       [  1.        , -10.28211933],\n",
       "       [  1.        ,  43.19200131],\n",
       "       [  1.        ,   8.72006862],\n",
       "       [  1.        ,  26.99752732],\n",
       "       [  1.        ,  41.55251266],\n",
       "       [  1.        ,   1.52962362],\n",
       "       [  1.        , -34.76473553],\n",
       "       [  1.        ,  34.65294033],\n",
       "       [  1.        , -20.74069282],\n",
       "       [  1.        , -25.42431414],\n",
       "       [  1.        ,   2.31046369],\n",
       "       [  1.        , -41.1484016 ],\n",
       "       [  1.        ,  24.15595426],\n",
       "       [  1.        ,  20.03695411],\n",
       "       [  1.        , -29.52829312],\n",
       "       [  1.        ,  -8.68479332],\n",
       "       [  1.        ,  14.55793047],\n",
       "       [  1.        ,  29.66668869],\n",
       "       [  1.        ,  42.48590126],\n",
       "       [  1.        , -26.41230993],\n",
       "       [  1.        ,  25.49364682],\n",
       "       [  1.        ,  33.29123841],\n",
       "       [  1.        , -46.10355124],\n",
       "       [  1.        ,  19.00845793],\n",
       "       [  1.        , -10.30552687],\n",
       "       [  1.        ,  40.56716526],\n",
       "       [  1.        , -34.63752365],\n",
       "       [  1.        ,   3.81510136],\n",
       "       [  1.        ,  28.04533052],\n",
       "       [  1.        ,  47.91361445],\n",
       "       [  1.        ,  27.21428388],\n",
       "       [  1.        , -44.80345157],\n",
       "       [  1.        ,  18.74666197],\n",
       "       [  1.        ,  11.08259497],\n",
       "       [  1.        , -13.81469026],\n",
       "       [  1.        ,  38.06056595],\n",
       "       [  1.        ,  10.61391662],\n",
       "       [  1.        , -28.25023502],\n",
       "       [  1.        ,  35.70836314],\n",
       "       [  1.        ,  -5.90910401],\n",
       "       [  1.        ,  21.06649401],\n",
       "       [  1.        , -20.51549693],\n",
       "       [  1.        ,  26.67680609],\n",
       "       [  1.        , -28.17956238],\n",
       "       [  1.        , -31.05909378],\n",
       "       [  1.        ,  -5.32097553],\n",
       "       [  1.        ,  42.72454455],\n",
       "       [  1.        ,  26.16338219]])"
      ]
     },
     "execution_count": 34,
     "metadata": {},
     "output_type": "execute_result"
    }
   ],
   "source": [
    "Get_x(X_train,1)"
   ]
  },
  {
   "cell_type": "code",
   "execution_count": 35,
   "metadata": {},
   "outputs": [
    {
     "data": {
      "text/plain": [
       "<matplotlib.collections.PathCollection at 0x7f807c384550>"
      ]
     },
     "execution_count": 35,
     "metadata": {},
     "output_type": "execute_result"
    },
    {
     "data": {
      "image/png": "[encoded data removed]",
      "text/plain": [
       "<Figure size 640x480 with 1 Axes>"
      ]
     },
     "metadata": {},
     "output_type": "display_data"
    }
   ],
   "source": [
    "plt.scatter(X_train,y_train)"
   ]
  },
  {
   "cell_type": "code",
   "execution_count": 36,
   "metadata": {},
   "outputs": [
    {
     "name": "stdout",
     "output_type": "stream",
     "text": [
      "<class 'numpy.ndarray'>\n",
      "<class 'numpy.ndarray'>\n",
      "<class 'numpy.ndarray'>\n",
      "<class 'numpy.ndarray'>\n",
      "<class 'numpy.ndarray'>\n",
      "<class 'numpy.ndarray'>\n",
      "<class 'numpy.ndarray'>\n",
      "<class 'numpy.ndarray'>\n",
      "<class 'numpy.ndarray'>\n",
      "<class 'numpy.ndarray'>\n",
      "<class 'numpy.ndarray'>\n",
      "<class 'numpy.ndarray'>\n",
      "<class 'numpy.ndarray'>\n",
      "<class 'numpy.ndarray'>\n",
      "<class 'numpy.ndarray'>\n",
      "<class 'numpy.ndarray'>\n",
      "<class 'numpy.ndarray'>\n",
      "<class 'numpy.ndarray'>\n",
      "<class 'numpy.ndarray'>\n",
      "<class 'numpy.ndarray'>\n",
      "<class 'numpy.ndarray'>\n",
      "<class 'numpy.ndarray'>\n",
      "<class 'numpy.ndarray'>\n",
      "<class 'numpy.ndarray'>\n",
      "<class 'numpy.ndarray'>\n",
      "<class 'numpy.ndarray'>\n",
      "<class 'numpy.ndarray'>\n",
      "<class 'numpy.ndarray'>\n",
      "<class 'numpy.ndarray'>\n",
      "<class 'numpy.ndarray'>\n",
      "<class 'numpy.ndarray'>\n",
      "<class 'numpy.ndarray'>\n",
      "<class 'numpy.ndarray'>\n",
      "<class 'numpy.ndarray'>\n",
      "<class 'numpy.ndarray'>\n",
      "<class 'numpy.ndarray'>\n",
      "<class 'numpy.ndarray'>\n",
      "<class 'numpy.ndarray'>\n",
      "<class 'numpy.ndarray'>\n",
      "<class 'numpy.ndarray'>\n",
      "<class 'numpy.ndarray'>\n",
      "<class 'numpy.ndarray'>\n",
      "<class 'numpy.ndarray'>\n",
      "<class 'numpy.ndarray'>\n",
      "<class 'numpy.ndarray'>\n",
      "<class 'numpy.ndarray'>\n",
      "<class 'numpy.ndarray'>\n",
      "<class 'numpy.ndarray'>\n",
      "<class 'numpy.ndarray'>\n"
     ]
    }
   ],
   "source": [
    "trainloss = []\n",
    "testloss = []\n",
    "dvalue = []\n",
    "for d in range(1,50):\n",
    "    x_new, theta = calc_theta(X_train, y_train, d)\n",
    "    hypo = hypothesis(x_new, theta)\n",
    "    #print(hypo)\n",
    "    loss = (1/(len(X_train)*2))*np.sum(pow(y_train-hypo,2))\n",
    "    trainloss.append(loss)\n",
    "    dvalue.append(d)\n",
    "    test_x = Get_x(X_test,d)\n",
    "    hypo = hypothesis(test_x, theta)\n",
    "    testloss.append((1/(len(X_test)*2))*np.sum(pow(y_test-hypo, 2)))\n",
    "#print(trainloss)"
   ]
  },
  {
   "cell_type": "code",
   "execution_count": 37,
   "metadata": {},
   "outputs": [
    {
     "name": "stdout",
     "output_type": "stream",
     "text": [
      "[53.22858907663605, 53.22734177957398, 51.29288208739648, 51.29167820077358, 48.762162730738595, 48.76199663004946, 48.54773656109807, 48.54690841239865, 48.54687649352182, 48.540138316266436, 48.53528274059226, 48.53490806112376, 48.5336884427999, 48.52658851241442, 48.5265887601585, 48.526468891496734, 48.52461020137333, 48.524581361915324, 48.571795476912875, 48.523285686624845, 53.36562987765785, 48.57019302426334, 58.37100793141307, 51.730810195905526, 59.61056469677288, 59.06740552785961, 61.071755068455126, 57.69808122775498, 69.60809907791119, 58.34918652988854, 64.65375399947298, 65.15534951443337, 70.25522563346868, 59.84035107689498, 71.34170835468157, 58.602633152655244, 63.60167226776825, 61.67854671685331, 65.76669813336072, 70.96330334257766, 70.47128259486786, 67.61003078888214, 76.23026603746803, 63.49617780499315, 73.81013627798245, 63.939059182647576, 71.88486367686845, 66.14337171180581, 69.98016658561926]\n",
      "48.523285686624845\n",
      "[53.45100668449156, 53.44598405918905, 51.45690931036248, 51.45087015127787, 48.74845947130849, 48.74994027639328, 48.441587234381636, 48.450282447384815, 48.45171811952748, 48.46825046316966, 48.467371921097616, 48.46755622254294, 48.47619443887889, 48.476668230015996, 48.47664095192974, 48.47600740787921, 48.47538535329938, 48.47547500491832, 48.549742784662655, 48.47842884387746, 53.398264370760295, 48.53504516668996, 58.37629443036064, 51.755206502471694, 59.63085799238006, 59.04860394209281, 61.118894814664934, 57.73761440711619, 69.64708987622362, 58.359171263384205, 64.63585061064265, 65.25832167523365, 70.29642822744941, 59.85652717372569, 71.41271107573365, 58.58720459778106, 63.548403496010636, 61.81039657346237, 65.6991370075387, 71.07604250222414, 70.58185592876971, 67.70589637046409, 76.34601614235159, 63.49524801666191, 73.85724410591573, 63.96800270341635, 71.98790563534509, 66.24338424582248, 70.0675234069351]\n",
      "48.441587234381636\n"
     ]
    }
   ],
   "source": [
    "ll = [math.log(x) for x in trainloss]\n",
    "print(ll)\n",
    "print(min(ll))\n",
    "\n",
    "ll = [math.log(x) for x in testloss]\n",
    "print(ll)\n",
    "print(min(ll))"
   ]
  },
  {
   "cell_type": "code",
   "execution_count": 38,
   "metadata": {},
   "outputs": [
    {
     "data": {
      "text/plain": [
       "<matplotlib.collections.PathCollection at 0x7f807c1ca980>"
      ]
     },
     "execution_count": 38,
     "metadata": {},
     "output_type": "execute_result"
    },
    {
     "data": {
      "image/png": "[encoded data removed]",
      "text/plain": [
       "<Figure size 640x480 with 1 Axes>"
      ]
     },
     "metadata": {},
     "output_type": "display_data"
    }
   ],
   "source": [
    "plt.scatter(X_train,y_train)"
   ]
  },
  {
   "cell_type": "code",
   "execution_count": 39,
   "metadata": {},
   "outputs": [
    {
     "name": "stdout",
     "output_type": "stream",
     "text": [
      "<class 'numpy.ndarray'>\n"
     ]
    }
   ],
   "source": [
    "x_new, theta = calc_theta(X_train, y_train, 20)\n",
    "test_x = Get_x(X_test,20)\n",
    "hypo = hypothesis(test_x, theta)"
   ]
  },
  {
   "cell_type": "code",
   "execution_count": null,
   "metadata": {},
   "outputs": [],
   "source": [
    "theta"
   ]
  },
  {
   "cell_type": "code",
   "execution_count": null,
   "metadata": {},
   "outputs": [],
   "source": [
    "d =10"
   ]
  },
  {
   "cell_type": "code",
   "execution_count": 40,
   "metadata": {},
   "outputs": [
    {
     "name": "stdout",
     "output_type": "stream",
     "text": [
      "-6864629553.100504x^49 \n",
      "-60550627.47536147x^48 \n",
      "56460424.12256732x^47 \n",
      "-11080159.391281776x^46 \n",
      "-100246.57089613262x^45 \n",
      "73394.5426500976x^44 \n",
      "-1686.931844548873x^43 \n",
      "-250.20881461849888x^42 \n",
      "8.12185925690765x^41 \n",
      "0.4980819750101013x^40 \n",
      "-0.015086153586079173x^39 \n",
      "-0.0006033737308519106x^38 \n",
      "1.488954306463841e-05x^37 \n",
      "4.341999769275459e-07x^36 \n",
      "-8.594460469189508e-09x^35 \n",
      "-1.813235308308027e-10x^34 \n",
      "2.93414749638033e-12x^33 \n",
      "4.054028670287636e-14x^32 \n",
      "-5.525617742249088e-16x^31 \n",
      "-3.75157868458788e-18x^30 \n",
      "4.4463604328847416e-20x^29 \n"
     ]
    }
   ],
   "source": [
    "theta\n",
    "for idx,the in enumerate(theta):\n",
    "    print(str(the[0]) + \"x^\" + str(d-idx)+ \" \")"
   ]
  },
  {
   "cell_type": "code",
   "execution_count": null,
   "metadata": {},
   "outputs": [],
   "source": [
    "plt.scatter(X_test,hypo)"
   ]
  },
  {
   "cell_type": "code",
   "execution_count": 41,
   "metadata": {},
   "outputs": [
    {
     "data": {
      "text/plain": [
       "[<matplotlib.lines.Line2D at 0x7f807c239240>]"
      ]
     },
     "execution_count": 41,
     "metadata": {},
     "output_type": "execute_result"
    },
    {
     "data": {
      "image/png": "[encoded data removed]",
      "text/plain": [
       "<Figure size 640x480 with 1 Axes>"
      ]
     },
     "metadata": {},
     "output_type": "display_data"
    }
   ],
   "source": [
    "plt.plot(list(range(len(trainloss))),[math.log(x) for x in trainloss])\n"
   ]
  },
  {
   "cell_type": "markdown",
   "metadata": {},
   "source": []
  },
  {
   "cell_type": "code",
   "execution_count": 42,
   "metadata": {},
   "outputs": [
    {
     "data": {
      "text/plain": [
       "[<matplotlib.lines.Line2D at 0x7f807c287d60>]"
      ]
     },
     "execution_count": 42,
     "metadata": {},
     "output_type": "execute_result"
    },
    {
     "data": {
      "image/png": "[encoded data removed]",
      "text/plain": [
       "<Figure size 640x480 with 1 Axes>"
      ]
     },
     "metadata": {},
     "output_type": "display_data"
    }
   ],
   "source": [
    "plt.plot(list(range(len(testloss))), [math.log(x) for x in testloss])\n"
   ]
  },
  {
   "cell_type": "code",
   "execution_count": 48,
   "metadata": {},
   "outputs": [
    {
     "name": "stdout",
     "output_type": "stream",
     "text": [
      "[1.30882781e+23 1.30719633e+23 1.88892908e+22 1.88665639e+22\n",
      " 1.50362037e+21 1.50337063e+21 1.21342824e+21 1.21242376e+21\n",
      " 1.21238506e+21 1.20424325e+21 1.19841013e+21 1.19796120e+21\n",
      " 1.19650103e+21 1.18803604e+21 1.18803634e+21 1.18789394e+21\n",
      " 1.18568806e+21 1.18565387e+21 1.24297602e+21 1.18411864e+21\n",
      " 1.50106182e+23 1.24098581e+21 2.23978663e+25 2.92688334e+22\n",
      " 7.73640703e+25 4.49415742e+25 3.33523336e+26 1.14276859e+25\n",
      " 1.69986067e+30 2.19144075e+25 1.19886035e+28 1.97974275e+28\n",
      " 3.24680957e+30 9.73496216e+25 9.62299517e+30 2.82358069e+25\n",
      " 4.18654059e+27 6.11860604e+26 3.64849783e+28 6.59129970e+30\n",
      " 4.02985262e+30 2.30495947e+29 1.27756761e+33 3.76738186e+27\n",
      " 1.13588639e+32 5.86652034e+27 1.65653123e+31 5.31742470e+28\n",
      " 2.46604042e+30]\n",
      "[2.94367534e+23 2.93385322e+23 4.11455294e+22 4.09887986e+22\n",
      " 2.98677677e+21 2.98872493e+21 2.30465254e+21 2.31317786e+21\n",
      " 2.31472062e+21 2.32495448e+21 2.31813720e+21 2.31789465e+21\n",
      " 2.32615062e+21 2.31822098e+21 2.31819044e+21 2.31733227e+21\n",
      " 2.31442404e+21 2.31449104e+21 2.45884111e+21 2.31629514e+21\n",
      " 3.05191812e+23 2.43911126e+21 4.49144524e+25 5.92604996e+22\n",
      " 1.56314151e+26 8.90460695e+25 6.83145340e+26 2.33161933e+25\n",
      " 3.46730935e+30 4.40487206e+25 2.37644803e+28 4.17420948e+28\n",
      " 6.63019034e+30 1.96286786e+26 1.99540902e+31 5.60393195e+25\n",
      " 8.15590500e+27 1.30995501e+27 7.05864144e+28 1.39692046e+31\n",
      " 8.53086858e+30 4.84182347e+29 2.71191229e+33 7.53126249e+27\n",
      " 2.32656229e+32 1.19053196e+28 3.49285891e+31 1.11941615e+29\n",
      " 5.15719582e+30]\n"
     ]
    },
    {
     "data": {
      "text/plain": [
       "6"
      ]
     },
     "execution_count": 48,
     "metadata": {},
     "output_type": "execute_result"
    }
   ],
   "source": [
    "trainloss = np.array(trainloss)\n",
    "testloss = np.array(testloss)\n",
    "print(trainloss)\n",
    "print(trainloss + testloss)\n",
    "np.argmin(trainloss + testloss)"
   ]
  },
  {
   "cell_type": "code",
   "execution_count": null,
   "metadata": {},
   "outputs": [],
   "source": []
  },
  {
   "cell_type": "code",
   "execution_count": null,
   "metadata": {},
   "outputs": [],
   "source": [
    "np.argmin(testloss), np.argmin(trainloss)"
   ]
  },
  {
   "cell_type": "code",
   "execution_count": 44,
   "metadata": {},
   "outputs": [
    {
     "name": "stdout",
     "output_type": "stream",
     "text": [
      "<class 'numpy.ndarray'>\n"
     ]
    }
   ],
   "source": [
    "x_new,theta = calc_theta(X_train,y_train,20)\n",
    "hypo = hypothesis(x_new, theta)"
   ]
  },
  {
   "cell_type": "code",
   "execution_count": 45,
   "metadata": {},
   "outputs": [
    {
     "data": {
      "text/plain": [
       "((250, 1),\n",
       " [1,\n",
       "  2,\n",
       "  3,\n",
       "  4,\n",
       "  5,\n",
       "  6,\n",
       "  7,\n",
       "  8,\n",
       "  9,\n",
       "  10,\n",
       "  11,\n",
       "  12,\n",
       "  13,\n",
       "  14,\n",
       "  15,\n",
       "  16,\n",
       "  17,\n",
       "  18,\n",
       "  19,\n",
       "  20,\n",
       "  21,\n",
       "  22,\n",
       "  23,\n",
       "  24,\n",
       "  25,\n",
       "  26,\n",
       "  27,\n",
       "  28,\n",
       "  29,\n",
       "  30,\n",
       "  31,\n",
       "  32,\n",
       "  33,\n",
       "  34,\n",
       "  35,\n",
       "  36,\n",
       "  37,\n",
       "  38,\n",
       "  39,\n",
       "  40,\n",
       "  41,\n",
       "  42,\n",
       "  43,\n",
       "  44,\n",
       "  45,\n",
       "  46,\n",
       "  47,\n",
       "  48,\n",
       "  49,\n",
       "  50,\n",
       "  51,\n",
       "  52,\n",
       "  53,\n",
       "  54,\n",
       "  55,\n",
       "  56,\n",
       "  57,\n",
       "  58,\n",
       "  59,\n",
       "  60,\n",
       "  61,\n",
       "  62,\n",
       "  63,\n",
       "  64,\n",
       "  65,\n",
       "  66,\n",
       "  67,\n",
       "  68,\n",
       "  69,\n",
       "  70,\n",
       "  71,\n",
       "  72,\n",
       "  73,\n",
       "  74,\n",
       "  75,\n",
       "  76,\n",
       "  77,\n",
       "  78,\n",
       "  79,\n",
       "  80,\n",
       "  81,\n",
       "  82,\n",
       "  83,\n",
       "  84,\n",
       "  85,\n",
       "  86,\n",
       "  87,\n",
       "  88,\n",
       "  89,\n",
       "  90,\n",
       "  91,\n",
       "  92,\n",
       "  93,\n",
       "  94,\n",
       "  95,\n",
       "  96,\n",
       "  97,\n",
       "  98,\n",
       "  99,\n",
       "  100,\n",
       "  101,\n",
       "  102,\n",
       "  103,\n",
       "  104,\n",
       "  105,\n",
       "  106,\n",
       "  107,\n",
       "  108,\n",
       "  109,\n",
       "  110,\n",
       "  111,\n",
       "  112,\n",
       "  113,\n",
       "  114,\n",
       "  115,\n",
       "  116,\n",
       "  117,\n",
       "  118,\n",
       "  119,\n",
       "  120,\n",
       "  121,\n",
       "  122,\n",
       "  123,\n",
       "  124,\n",
       "  125,\n",
       "  126,\n",
       "  127,\n",
       "  128,\n",
       "  129,\n",
       "  130,\n",
       "  131,\n",
       "  132,\n",
       "  133,\n",
       "  134,\n",
       "  135,\n",
       "  136,\n",
       "  137,\n",
       "  138,\n",
       "  139,\n",
       "  140,\n",
       "  141,\n",
       "  142,\n",
       "  143,\n",
       "  144,\n",
       "  145,\n",
       "  146,\n",
       "  147,\n",
       "  148,\n",
       "  149,\n",
       "  150,\n",
       "  151,\n",
       "  152,\n",
       "  153,\n",
       "  154,\n",
       "  155,\n",
       "  156,\n",
       "  157,\n",
       "  158,\n",
       "  159,\n",
       "  160,\n",
       "  161,\n",
       "  162,\n",
       "  163,\n",
       "  164,\n",
       "  165,\n",
       "  166,\n",
       "  167,\n",
       "  168,\n",
       "  169,\n",
       "  170,\n",
       "  171,\n",
       "  172,\n",
       "  173,\n",
       "  174,\n",
       "  175,\n",
       "  176,\n",
       "  177,\n",
       "  178,\n",
       "  179,\n",
       "  180,\n",
       "  181,\n",
       "  182,\n",
       "  183,\n",
       "  184,\n",
       "  185,\n",
       "  186,\n",
       "  187,\n",
       "  188,\n",
       "  189,\n",
       "  190,\n",
       "  191,\n",
       "  192,\n",
       "  193,\n",
       "  194,\n",
       "  195,\n",
       "  196,\n",
       "  197,\n",
       "  198,\n",
       "  199,\n",
       "  200,\n",
       "  201,\n",
       "  202,\n",
       "  203,\n",
       "  204,\n",
       "  205,\n",
       "  206,\n",
       "  207,\n",
       "  208,\n",
       "  209,\n",
       "  210,\n",
       "  211,\n",
       "  212,\n",
       "  213,\n",
       "  214,\n",
       "  215,\n",
       "  216,\n",
       "  217,\n",
       "  218,\n",
       "  219,\n",
       "  220,\n",
       "  221,\n",
       "  222,\n",
       "  223,\n",
       "  224,\n",
       "  225,\n",
       "  226,\n",
       "  227,\n",
       "  228,\n",
       "  229,\n",
       "  230,\n",
       "  231,\n",
       "  232,\n",
       "  233,\n",
       "  234,\n",
       "  235,\n",
       "  236,\n",
       "  237,\n",
       "  238,\n",
       "  239,\n",
       "  240,\n",
       "  241,\n",
       "  242,\n",
       "  243,\n",
       "  244,\n",
       "  245,\n",
       "  246,\n",
       "  247,\n",
       "  248,\n",
       "  249,\n",
       "  250])"
      ]
     },
     "execution_count": 45,
     "metadata": {},
     "output_type": "execute_result"
    }
   ],
   "source": [
    "hypo.shape,list(range(1,len(hypo)+1))"
   ]
  },
  {
   "cell_type": "code",
   "execution_count": 46,
   "metadata": {},
   "outputs": [
    {
     "data": {
      "text/plain": [
       "<matplotlib.collections.PathCollection at 0x7f807c0ee9e0>"
      ]
     },
     "execution_count": 46,
     "metadata": {},
     "output_type": "execute_result"
    },
    {
     "data": {
      "image/png": "[encoded data removed]",
      "text/plain": [
       "<Figure size 640x480 with 1 Axes>"
      ]
     },
     "metadata": {},
     "output_type": "display_data"
    }
   ],
   "source": [
    "plt.scatter(list(range(1,len(hypo)+1)),hypo)"
   ]
  },
  {
   "cell_type": "code",
   "execution_count": null,
   "metadata": {},
   "outputs": [],
   "source": []
  }
 ],
 "metadata": {
  "kernelspec": {
   "display_name": "Python 3.10.4 64-bit",
   "language": "python",
   "name": "python3"
  },
  "language_info": {
   "codemirror_mode": {
    "name": "ipython",
    "version": 3
   },
   "file_extension": ".py",
   "mimetype": "text/x-python",
   "name": "python",
   "nbconvert_exporter": "python",
   "pygments_lexer": "ipython3",
   "version": "3.10.4"
  },
  "orig_nbformat": 4,
  "vscode": {
   "interpreter": {
    "hash": "916dbcbb3f70747c44a77c7bcd40155683ae19c65e1c03b4aa3499c5328201f1"
   }
  }
 },
 "nbformat": 4,
 "nbformat_minor": 2
}

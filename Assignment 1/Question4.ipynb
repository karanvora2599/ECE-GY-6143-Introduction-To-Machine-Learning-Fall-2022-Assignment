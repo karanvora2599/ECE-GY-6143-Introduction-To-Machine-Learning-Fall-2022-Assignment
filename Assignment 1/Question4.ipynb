{
  "cells": [
    {
      "cell_type": "code",
      "execution_count": 1,
      "metadata": {
        "id": "OUX3i8ziC7BM"
      },
      "outputs": [],
      "source": [
        "import pandas as pd\n",
        "import numpy as np\n",
        "import scipy.io"
      ]
    },
    {
      "cell_type": "code",
      "execution_count": null,
      "metadata": {
        "colab": {
          "base_uri": "https://localhost:8080/"
        },
        "id": "JxmGGNZeC7BR",
        "outputId": "7c5f4bd6-8034-4579-97d2-0ddc4202429d"
      },
      "outputs": [],
      "source": [
        "\n",
        "# from google.colab import drive\n",
        "# drive.mount('/content/drive')"
      ]
    },
    {
      "cell_type": "code",
      "execution_count": 2,
      "metadata": {
        "id": "l9OrWdrxC7BS"
      },
      "outputs": [],
      "source": [
        "df = scipy.io.loadmat('/home/karanvora/Documents/New York University/Classes/Semester 1/Machine Learning/Assignments/Assignment 1/dataset4.mat');\n",
        "x = np.array(df.get('X'))\n",
        "y = np.array(df.get('Y'))"
      ]
    },
    {
      "cell_type": "code",
      "execution_count": 3,
      "metadata": {
        "colab": {
          "base_uri": "https://localhost:8080/"
        },
        "id": "LppodVelMOLf",
        "outputId": "0ba4b7f4-1a79-4a03-b4b7-49f2c5d4b3f4"
      },
      "outputs": [
        {
          "data": {
            "text/plain": [
              "(200, 3)"
            ]
          },
          "execution_count": 3,
          "metadata": {},
          "output_type": "execute_result"
        }
      ],
      "source": [
        "x.shape"
      ]
    },
    {
      "cell_type": "code",
      "execution_count": 4,
      "metadata": {
        "colab": {
          "base_uri": "https://localhost:8080/"
        },
        "id": "Yir77O5DMhqP",
        "outputId": "094bea9e-e653-4b0c-c99b-68af5e0cd5cd"
      },
      "outputs": [
        {
          "data": {
            "text/plain": [
              "(200, 1)"
            ]
          },
          "execution_count": 4,
          "metadata": {},
          "output_type": "execute_result"
        }
      ],
      "source": [
        "y.shape"
      ]
    },
    {
      "cell_type": "code",
      "execution_count": 5,
      "metadata": {
        "id": "ofjXkSzRMicd"
      },
      "outputs": [],
      "source": [
        "def sigmoid(z):\n",
        "    return 1.0/(1 + np.exp(-z))"
      ]
    },
    {
      "cell_type": "code",
      "execution_count": 6,
      "metadata": {
        "id": "6J4EB-5FOCB8"
      },
      "outputs": [],
      "source": [
        "def gradients(x, y, y_hat):\n",
        "    \n",
        "    m = x.shape[0]\n",
        "    \n",
        "    dw = (1/m)*np.dot(x.T, (y_hat - y))\n",
        "    \n",
        "    return dw"
      ]
    },
    {
      "cell_type": "code",
      "execution_count": 7,
      "metadata": {
        "id": "eMii2qb1OHzw"
      },
      "outputs": [],
      "source": [
        "def train(x, y, lr):\n",
        "    \n",
        "    m, n = x.shape\n",
        "    \n",
        "    # Randomly initializing weights .\n",
        "    w = np.random.rand(x.shape[1],1)\n",
        "    \n",
        "    y = y.reshape(m,1)\n",
        "    \n",
        "    errors = []\n",
        "    \n",
        "    # Training loop.\n",
        "    count = 0;\n",
        "    iterations = []\n",
        "    while(True):\n",
        "            \n",
        "        # predicted label value\n",
        "        y_hat = sigmoid(np.dot(x, w))\n",
        "\n",
        "        dw = gradients(x, y, y_hat)\n",
        "        \n",
        "        # Updating the parameters.\n",
        "        w -= lr*dw\n",
        "      \n",
        "\n",
        "        epsilon = np.linalg.norm(lr*dw);\n",
        "       \n",
        "        if(epsilon < 0.001): \n",
        "          print(epsilon, count);\n",
        "          break\n",
        "\n",
        "        # Calculating loss and appending it in the list.\n",
        "        err = -np.mean( (y-1)*np.log(1-y_hat) - y*np.log(y_hat) )\n",
        "\n",
        "        errors.append(err);\n",
        "        iterations.append(count);\n",
        "\n",
        "      \n",
        "        count+=1;\n",
        "  \n",
        "    return w, errors, iterations"
      ]
    },
    {
      "cell_type": "code",
      "execution_count": 8,
      "metadata": {
        "colab": {
          "base_uri": "https://localhost:8080/"
        },
        "id": "E0cHMCx8OOvJ",
        "outputId": "55d10590-ed6a-462a-b2fd-ebe5878c77a8"
      },
      "outputs": [
        {
          "name": "stdout",
          "output_type": "stream",
          "text": [
            "0.0009999179513729536 6642\n"
          ]
        }
      ],
      "source": [
        "# Training \n",
        "w, error, iterations = train(x, y, lr=0.1)\n"
      ]
    },
    {
      "cell_type": "code",
      "execution_count": 9,
      "metadata": {
        "colab": {
          "base_uri": "https://localhost:8080/",
          "height": 265
        },
        "id": "ntw_sKGwHzFh",
        "outputId": "554e983e-f417-418d-da5c-a4b31c8a471f"
      },
      "outputs": [
        {
          "data": {
            "image/png": "[encoded data removed]",
            "text/plain": [
              "<Figure size 640x480 with 1 Axes>"
            ]
          },
          "metadata": {},
          "output_type": "display_data"
        }
      ],
      "source": [
        "import matplotlib.pyplot as plt\n",
        "plt.plot(iterations, error);\n",
        "plt.show();"
      ]
    },
    {
      "cell_type": "code",
      "execution_count": 10,
      "metadata": {
        "colab": {
          "base_uri": "https://localhost:8080/",
          "height": 265
        },
        "id": "epumrZaPKXD6",
        "outputId": "97de681e-5921-49c8-d0ca-ad535678d878"
      },
      "outputs": [
        {
          "data": {
            "image/png": "[encoded data removed]",
            "text/plain": [
              "<Figure size 640x480 with 1 Axes>"
            ]
          },
          "metadata": {},
          "output_type": "display_data"
        }
      ],
      "source": [
        "from numpy import where\n",
        "\n",
        "row_zeros = where(y==0)\n",
        "row_ones = where(y==1)\n",
        "plt.scatter(x[row_zeros,0], x[row_zeros,1])\n",
        "plt.scatter(x[row_ones,1], x[row_ones,1])\n",
        "plt.show()\n",
        "\n"
      ]
    },
    {
      "cell_type": "code",
      "execution_count": 11,
      "metadata": {
        "colab": {
          "base_uri": "https://localhost:8080/"
        },
        "id": "cOuTSFxsie4v",
        "outputId": "e1b27529-78ef-46d6-fd78-5df6a60c1a7a"
      },
      "outputs": [
        {
          "data": {
            "text/plain": [
              "500.0"
            ]
          },
          "execution_count": 11,
          "metadata": {},
          "output_type": "execute_result"
        }
      ],
      "source": [
        " a = np.ones((10,50))\n",
        "b = np.zeros((10,50))\n",
        "np.sum(a-b)"
      ]
    },
    {
      "cell_type": "code",
      "execution_count": null,
      "metadata": {
        "id": "LnN6QFIFtesM"
      },
      "outputs": [],
      "source": []
    }
  ],
  "metadata": {
    "colab": {
      "provenance": []
    },
    "kernelspec": {
      "display_name": "Python 3.10.4 64-bit",
      "language": "python",
      "name": "python3"
    },
    "language_info": {
      "codemirror_mode": {
        "name": "ipython",
        "version": 3
      },
      "file_extension": ".py",
      "mimetype": "text/x-python",
      "name": "python",
      "nbconvert_exporter": "python",
      "pygments_lexer": "ipython3",
      "version": "3.10.4"
    },
    "orig_nbformat": 4,
    "vscode": {
      "interpreter": {
        "hash": "916dbcbb3f70747c44a77c7bcd40155683ae19c65e1c03b4aa3499c5328201f1"
      }
    }
  },
  "nbformat": 4,
  "nbformat_minor": 0
}

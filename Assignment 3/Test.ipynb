{
 "cells": [
  {
   "cell_type": "code",
   "execution_count": null,
   "metadata": {},
   "outputs": [],
   "source": [
    "from scipy.io import loadmat\n",
    "import numpy as np\n",
    "import json\n",
    "import matplotlib.pyplot as plt\n",
    "import pandas as pd\n",
    "from sklearn.model_selection import train_test_split\n",
    "from sklearn.preprocessing import StandardScaler\n",
    "from sklearn.preprocessing import scale\n",
    "from sklearn.svm import SVC\n",
    "from sklearn.metrics import confusion_matrix, accuracy_score\n",
    "from operator import itemgetter\n",
    "#%matplotlib notebook\n",
    "\n",
    "Problem1Data = loadmat(\"dataset.mat\")\n",
    "# print(json.dumps(Problem1Data, indent=3))\n",
    "X_Data = Problem1Data['X'].tolist()\n",
    "Y_Data1 = Problem1Data['Y'].tolist()\n",
    "Y_Data = []\n",
    "for values in Y_Data1:\n",
    "    Y_Data.append(values[0])\n",
    "#print(Y_Data)\n",
    "X_Train, X_Test, Y_Train, Y_Test = train_test_split(X_Data, Y_Data, test_size = 0.5, random_state = 9)"
   ]
  },
  {
   "cell_type": "code",
   "execution_count": null,
   "metadata": {},
   "outputs": [],
   "source": [
    "Regularization_Parameters = [1E-10, 2E-10, 1E-9, 2E-9, 1E-8, 2E-8, 1E-7, 2E-7, 1E-6, 2E-6, 1E-5, 2E-5, 1E-4, 2E-4, 1E-3, 2E-3, 1E-2, 2E-2, 1E-1, 2E-1, 1.0, 1.1, 1.5, 2.0, 3.0, 4.0]\n",
    "Gamma = [1E-10, 2E-10, 1E-9, 2E-9, 1E-8, 2E-8, 1E-7, 2E-7, 1E-6, 2E-6, 1E-5, 2E-5, 1E-4, 2E-4, 1E-3, 2E-3, 1E-2, 2E-2, 1E-1, 2E-1, 1.0, 1.1, 1.5, 2.0, 3.0, 4.0]\n",
    "Value_List = []\n",
    "\n",
    "for C_Values in Regularization_Parameters:\n",
    "    for Gamma_Values in Gamma:\n",
    "        TempDir = {}\n",
    "        TempDir['Regularization_Parameter'] = C_Values\n",
    "        TempDir['Gamma'] = Gamma_Values\n",
    "        sc = StandardScaler()\n",
    "        X_Train = sc.fit_transform(X_Train)\n",
    "        X_Test = sc.transform(X_Test)\n",
    "        classifier = SVC(kernel = 'rbf', random_state = 0, gamma=Gamma_Values, C=C_Values)\n",
    "        classifier.fit(X_Train, Y_Train)\n",
    "        Y_Pred = classifier.predict(X_Test)\n",
    "        cm = confusion_matrix(Y_Test, Y_Pred)\n",
    "        TempDir['Accuracy'] = accuracy_score(Y_Test,Y_Pred)\n",
    "        Value_List.append(TempDir)"
   ]
  }
 ],
 "metadata": {
  "kernelspec": {
   "display_name": "Python 3.8.13 ('base')",
   "language": "python",
   "name": "python3"
  },
  "language_info": {
   "codemirror_mode": {
    "name": "ipython",
    "version": 3
   },
   "file_extension": ".py",
   "mimetype": "text/x-python",
   "name": "python",
   "nbconvert_exporter": "python",
   "pygments_lexer": "ipython3",
   "version": "3.8.13"
  },
  "orig_nbformat": 4,
  "vscode": {
   "interpreter": {
    "hash": "bc9e91df9bf5b77f675af423949f191fd1379e72009aa875419dd85524a397a6"
   }
  }
 },
 "nbformat": 4,
 "nbformat_minor": 2
}

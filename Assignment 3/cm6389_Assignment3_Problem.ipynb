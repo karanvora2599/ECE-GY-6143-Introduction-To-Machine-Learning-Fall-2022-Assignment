{
 "cells": [
  {
   "cell_type": "code",
   "execution_count": 1,
   "metadata": {},
   "outputs": [],
   "source": [
    "from scipy.io import loadmat\n",
    "import numpy as np\n",
    "import json\n",
    "import matplotlib.pyplot as plt\n",
    "import pandas as pd\n",
    "from sklearn.model_selection import train_test_split\n",
    "from sklearn.preprocessing import StandardScaler\n",
    "from sklearn.preprocessing import scale\n",
    "from sklearn.svm import SVC\n",
    "from sklearn.metrics import confusion_matrix, accuracy_score\n",
    "from operator import itemgetter\n",
    "#%matplotlib notebook\n",
    "\n",
    "Problem1Data = loadmat(\"dataset.mat\")\n",
    "# print(json.dumps(Problem1Data, indent=3))\n",
    "X_Data = Problem1Data['X'].tolist()\n",
    "Y_Data1 = Problem1Data['Y'].tolist()\n",
    "Y_Data = []\n",
    "for values in Y_Data1:\n",
    "    Y_Data.append(values[0])\n",
    "#print(Y_Data)\n",
    "X_Train, X_Test, Y_Train, Y_Test = train_test_split(X_Data, Y_Data, test_size = 0.5, random_state = 1)"
   ]
  },
  {
   "cell_type": "code",
   "execution_count": null,
   "metadata": {},
   "outputs": [],
   "source": [
    "C = [1E-10,1E-9,1E-8,1E-7,1E-6,1E-5,1E-4,1E-3,1E-2,1E-1,1.0,2.0,3.0,4.0]\n",
    "Accuracy = []\n",
    "\n",
    "for C_Entries in C:\n",
    "    sc = StandardScaler()\n",
    "    X_Train = sc.fit_transform(X_Train)\n",
    "    X_Test = sc.transform(X_Test)\n",
    "    classifier = SVC(kernel = 'linear', random_state = 1, C=C_Entries)\n",
    "    classifier.fit(X_Train, Y_Train)\n",
    "    Y_Pred = classifier.predict(X_Test)\n",
    "    Accuracy.append(accuracy_score(Y_Test, Y_Pred))\n",
    "\n"
   ]
  }
 ],
 "metadata": {
  "kernelspec": {
   "display_name": "Python 3.9.6 64-bit",
   "language": "python",
   "name": "python3"
  },
  "language_info": {
   "codemirror_mode": {
    "name": "ipython",
    "version": 3
   },
   "file_extension": ".py",
   "mimetype": "text/x-python",
   "name": "python",
   "nbconvert_exporter": "python",
   "pygments_lexer": "ipython3",
   "version": "3.9.6"
  },
  "orig_nbformat": 4,
  "vscode": {
   "interpreter": {
    "hash": "31f2aee4e71d21fbe5cf8b01ff0e069b9275f58929596ceb00d14d90e3e16cd6"
   }
  }
 },
 "nbformat": 4,
 "nbformat_minor": 2
}
